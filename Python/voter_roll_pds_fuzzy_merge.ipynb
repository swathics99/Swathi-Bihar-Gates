{
 "cells": [
  {
   "cell_type": "markdown",
   "id": "bca198cc-8fdf-4bc6-ada0-90099e738583",
   "metadata": {},
   "source": [
    "## 0. Description"
   ]
  },
  {
   "cell_type": "markdown",
   "id": "8a912bfa-df3d-42ce-864b-9c1afcd618c2",
   "metadata": {},
   "source": [
    "#### INPUT DATASET: \n",
    "#####                    (1)\tPDS records of 10 sample districts - Citizen_Endline_Final_Sample_Unique.csv\n",
    "##### \t\t\t\t\t (2)\tWards in our sample\n",
    "#####                    (3)    Voter roll files from 10 sample districts\n",
    "     \n",
    "#### OUTPUT DATASETS: \t\n",
    "#####                    (1)    Sample for phone survey\n",
    "\n",
    "#### DESCRIPTION: \t\t\n",
    "#####                    We fuzzy merge citizen records from Public Distribution System (PDS) and electoral voter roll\n",
    "#####                    to generate a sample for the phone survey"
   ]
  },
  {
   "cell_type": "code",
   "execution_count": null,
   "id": "29ab15fb-4197-4d1b-a128-ec0f9e8f1b1c",
   "metadata": {},
   "outputs": [],
   "source": [
    "# !pip install nbconvert"
   ]
  },
  {
   "cell_type": "code",
   "execution_count": null,
   "id": "1e1ca00d-c440-4cfe-9526-c26336b3fab1",
   "metadata": {},
   "outputs": [],
   "source": [
    "# !pip install pandoc"
   ]
  },
  {
   "cell_type": "code",
   "execution_count": null,
   "id": "05f2cc73-a6bc-445c-bc26-d2676074e254",
   "metadata": {},
   "outputs": [],
   "source": [
    "import pandas as pd\n",
    "import numpy as np\n",
    "import matplotlib as plt\n",
    "import csv\n",
    "import html5lib\n",
    "from pathlib import Path\n",
    "import glob"
   ]
  },
  {
   "cell_type": "code",
   "execution_count": null,
   "id": "02f096cf-609e-45d0-b2fc-3a31d4e3827d",
   "metadata": {},
   "outputs": [],
   "source": [
    "import re\n",
    "import random\n",
    "import time"
   ]
  },
  {
   "cell_type": "code",
   "execution_count": null,
   "id": "fd1a2723-1a51-4b19-9300-81cd22560406",
   "metadata": {},
   "outputs": [],
   "source": [
    "import os\n",
    "\n",
    "import unicodedata\n",
    "\n",
    "from indic_transliteration import sanscript\n",
    "from indic_transliteration.sanscript import transliterate"
   ]
  },
  {
   "cell_type": "code",
   "execution_count": null,
   "id": "63000771-42ad-4398-b21e-21706baec67f",
   "metadata": {},
   "outputs": [],
   "source": [
    "import random"
   ]
  },
  {
   "cell_type": "code",
   "execution_count": null,
   "id": "d956f219-445f-4b6f-beb8-102d619a4aa1",
   "metadata": {},
   "outputs": [],
   "source": [
    "from fuzzywuzzy import fuzz, process\n",
    "# from rapidfuzz import fuzz, process"
   ]
  },
  {
   "cell_type": "code",
   "execution_count": null,
   "id": "bf5e4348-196a-4594-b03c-f2aa11473979",
   "metadata": {},
   "outputs": [],
   "source": [
    "#Set up paths\n",
    "db = '/Users/swathi/Library/CloudStorage/Dropbox/Peer Effects and Role Models/Analysis_Experiment/'\n",
    "voter_roll = '1_Raw/Input/Citizen Endline/Voter_Roll/Converted/csvs_3/'\n",
    "pds_input = '1_Raw/Input/Citizen Endline/PDS/'\n",
    "sample_input = '3_Analyse/Input/endline_citizen/'"
   ]
  },
  {
   "cell_type": "markdown",
   "id": "3f3955cd-04a6-4fb0-a31a-fe66093bae61",
   "metadata": {},
   "source": [
    "## 1. Open our WM sample"
   ]
  },
  {
   "cell_type": "code",
   "execution_count": null,
   "id": "da588fc5-f807-4686-8d00-7a68b6b22e0c",
   "metadata": {},
   "outputs": [],
   "source": [
    "#To get the UGP, open our sample dataset as a dataframe\n",
    "wm_sample_path = '1_Raw/Input/Collective Action Experiment/treated_and_enrolled_wards.dta'\n",
    "wm_sample_file = os.path.join(db, wm_sample_path)\n",
    "wm_df = pd.read_stata(wm_sample_file)\n",
    "# wm_df"
   ]
  },
  {
   "cell_type": "code",
   "execution_count": null,
   "id": "fe5ce2a8-03e3-454c-b7c4-ce4ad0f7ad17",
   "metadata": {},
   "outputs": [],
   "source": [
    "wm_df['SpilloverWard'].unique()"
   ]
  },
  {
   "cell_type": "code",
   "execution_count": null,
   "id": "f9aca0c8-e2b9-44ff-9f81-d6f11064fd50",
   "metadata": {},
   "outputs": [],
   "source": [
    "print(f\"Unique wards in treat+control+spill: {wm_df.shape[0]}\")"
   ]
  },
  {
   "cell_type": "code",
   "execution_count": null,
   "id": "fcd13855-9587-46a1-bea3-e3ba6f929499",
   "metadata": {},
   "outputs": [],
   "source": [
    "wm_ugp = wm_df[['DistrictName', 'SubDistrictName', 'GramPanchayatName', 'WardNo', 'UGP']]"
   ]
  },
  {
   "cell_type": "code",
   "execution_count": null,
   "id": "83a1edf3-c825-4d76-8865-1775526a82a9",
   "metadata": {},
   "outputs": [],
   "source": [
    "wm_ugp['WardNo'].unique()"
   ]
  },
  {
   "cell_type": "code",
   "execution_count": null,
   "id": "5f6623b2-7183-4545-b197-4db70cb3fd25",
   "metadata": {},
   "outputs": [],
   "source": [
    "type(wm_ugp['WardNo'][0])"
   ]
  },
  {
   "cell_type": "code",
   "execution_count": null,
   "id": "146cf078-0c01-4ff8-811a-2ad82e0ab01e",
   "metadata": {},
   "outputs": [],
   "source": [
    "wm_ugp.loc[:, 'WardNo'] = wm_ugp.loc[:, 'WardNo'].astype('int')"
   ]
  },
  {
   "cell_type": "code",
   "execution_count": null,
   "id": "d6061aa5-4734-4565-b41e-9d27651311a4",
   "metadata": {},
   "outputs": [],
   "source": [
    "wm_ugp.shape"
   ]
  },
  {
   "cell_type": "markdown",
   "id": "84578404-2033-4881-ae39-9110e3bf2f3d",
   "metadata": {},
   "source": [
    "## 1.1 Open PDS sample"
   ]
  },
  {
   "cell_type": "code",
   "execution_count": null,
   "id": "803fc50f-48e4-43a6-997b-32bf8c6cf10e",
   "metadata": {},
   "outputs": [],
   "source": [
    "pds_file_name = 'Citizen_Endline_Final_Sample_Unique.csv'\n",
    "\n",
    "pds_file = os.path.join(db, sample_input, pds_file_name)\n",
    "pds_df = pd.read_csv(pds_file, dtype={'Mobile':'str'}, low_memory=False)"
   ]
  },
  {
   "cell_type": "markdown",
   "id": "3ec74f09-8c94-47bf-8459-0e492cfbae98",
   "metadata": {},
   "source": [
    "## 2. Open all voter roll .csv files downloaded"
   ]
  },
  {
   "cell_type": "code",
   "execution_count": null,
   "id": "0f6c3329-3b83-4ea0-8dba-4a4da9e84727",
   "metadata": {},
   "outputs": [],
   "source": [
    "voter_csv_path = os.path.join(db, voter_roll)"
   ]
  },
  {
   "cell_type": "code",
   "execution_count": null,
   "id": "7e805fbb-c8d6-4f2e-8e47-1b4e403c709e",
   "metadata": {},
   "outputs": [],
   "source": [
    "files_list = [file for file in os.listdir(voter_csv_path) if file.endswith('.csv') and 'Copy' not in file]\n",
    "print(files_list)"
   ]
  },
  {
   "cell_type": "code",
   "execution_count": null,
   "id": "138f3ba2-a75c-4f65-8f7d-bce229eec31e",
   "metadata": {},
   "outputs": [],
   "source": [
    "# Find which all of the files are actually in our sample\n",
    "voter_files = []\n",
    "for file in files_list:\n",
    "    dist = file.split('_')[0] if len(file.split('_'))>0 else ''\n",
    "    block = file.split('_')[1] if len(file.split('_'))>1 else ''\n",
    "    gp = file.split('_')[2] if len(file.split('_'))>2 else ''\n",
    "    ward = file.split('_')[3] if len(file.split('_'))>3 else ''\n",
    "    \n",
    "    ward = ward.split('.')[0] if len(ward.split('.'))>0 else ''\n",
    "    # geo_id = file.split('_')\n",
    "    print(dist, block, gp, ward)\n",
    "    file_dict = {'District':dist, 'Block':block, 'GramPanchayat':gp, 'WardNo':ward}\n",
    "    # file_dict = {geo_id}\n",
    "    voter_files.append(file_dict)\n",
    "print(voter_files)    "
   ]
  },
  {
   "cell_type": "code",
   "execution_count": null,
   "id": "a6b8fb7c-588b-4230-8a8e-1684faccf06f",
   "metadata": {},
   "outputs": [],
   "source": [
    "voter_files = pd.DataFrame(voter_files)"
   ]
  },
  {
   "cell_type": "code",
   "execution_count": null,
   "id": "d31c6c9a-7d46-4105-a87e-996af2eb97f9",
   "metadata": {},
   "outputs": [],
   "source": [
    "voter_files.loc[voter_files['WardNo']=='']"
   ]
  },
  {
   "cell_type": "code",
   "execution_count": null,
   "id": "d979a4ba-e6f0-4c3f-ab0a-3f715694cdd1",
   "metadata": {},
   "outputs": [],
   "source": [
    "voter_files.loc[voter_files['GramPanchayat']=='']"
   ]
  },
  {
   "cell_type": "code",
   "execution_count": null,
   "id": "c3409917-bebe-4416-9d92-fe924de34ba7",
   "metadata": {},
   "outputs": [],
   "source": [
    "voter_files.loc[voter_files['Block']=='']"
   ]
  },
  {
   "cell_type": "code",
   "execution_count": null,
   "id": "d1fbc7fd-445a-474b-9f86-570d0c1b6ca2",
   "metadata": {},
   "outputs": [],
   "source": [
    "voter_files.loc[voter_files['District']=='']"
   ]
  },
  {
   "cell_type": "code",
   "execution_count": null,
   "id": "12284225-90c4-4519-86d4-cb09e65199b6",
   "metadata": {},
   "outputs": [],
   "source": [
    "voter_files = voter_files.loc[voter_files['WardNo']!='']"
   ]
  },
  {
   "cell_type": "code",
   "execution_count": null,
   "id": "9b498aae-9f2a-4bce-a801-c5e3bb54a161",
   "metadata": {},
   "outputs": [],
   "source": [
    "print(f\"Unique wards downloaded: {pd.concat([voter_files['District'], voter_files['Block'], voter_files['GramPanchayat'], voter_files['WardNo']]).nunique()}\")"
   ]
  },
  {
   "cell_type": "code",
   "execution_count": null,
   "id": "d14b62ff-6689-4c7c-9e63-eac6a5dd220f",
   "metadata": {},
   "outputs": [],
   "source": [
    "voter_files = voter_files.rename(columns={'District': 'DistrictName', 'Block':'SubDistrictName', 'GramPanchayat':'GramPanchayatName'})"
   ]
  },
  {
   "cell_type": "code",
   "execution_count": null,
   "id": "4391f536-3281-47ab-9dd5-1e91f2a3caa5",
   "metadata": {},
   "outputs": [],
   "source": [
    "voter_files['WardNo'] = voter_files['WardNo'].astype('int')"
   ]
  },
  {
   "cell_type": "code",
   "execution_count": null,
   "id": "24920e36-9824-4807-95d0-8e23090b5b13",
   "metadata": {},
   "outputs": [],
   "source": [
    "voter_files.columns"
   ]
  },
  {
   "cell_type": "markdown",
   "id": "803c477b-6de0-4290-a54e-cac627ce4af2",
   "metadata": {},
   "source": [
    "## 3. Find out which all of the csv files downloaded are actually in our sample"
   ]
  },
  {
   "cell_type": "markdown",
   "id": "e5d1dae1-6a4a-45b9-a7a4-707da836c454",
   "metadata": {},
   "source": [
    "### 3.1 Fuzzy merge voter roll and sample districts"
   ]
  },
  {
   "cell_type": "code",
   "execution_count": null,
   "id": "ab778d5d-b94c-4354-80f2-d9100e225260",
   "metadata": {},
   "outputs": [],
   "source": [
    "#Fuzzy merge voter files and ward member sample\n",
    "for voter_dist in voter_files['DistrictName'].unique():\n",
    "    wm_dist = (wm_ugp['DistrictName'].unique()).tolist()\n",
    "    voter_match_dist = process.extractOne(voter_dist, wm_dist)\n",
    "    print(voter_dist, voter_match_dist)\n",
    "    voter_files.loc[voter_files['DistrictName']==voter_dist, 'Matched_District']=voter_match_dist[0]\n",
    "    print(voter_files['Matched_District'])"
   ]
  },
  {
   "cell_type": "code",
   "execution_count": null,
   "id": "ebd1fc9d-14a5-4ca7-a7e5-71396f59ac10",
   "metadata": {},
   "outputs": [],
   "source": [
    "voter_files[['DistrictName', 'Matched_District']].drop_duplicates()"
   ]
  },
  {
   "cell_type": "markdown",
   "id": "e79bb0e3-5b83-4e89-a9a7-de7a2e828b3e",
   "metadata": {},
   "source": [
    "### 3.2 Fuzzy merge voter roll and sample blocks"
   ]
  },
  {
   "cell_type": "code",
   "execution_count": null,
   "id": "504c6033-fb94-4ea8-84b0-2793af9437b2",
   "metadata": {},
   "outputs": [],
   "source": [
    "#Fuzzy match block\n",
    "for voter_dist in voter_files['Matched_District'].unique():\n",
    "    wm_blocks = (wm_ugp[wm_ugp['DistrictName']==voter_dist]['SubDistrictName'].unique()).tolist()\n",
    "    for voter_block in voter_files[voter_files['Matched_District']==voter_dist]['SubDistrictName'].unique():\n",
    "        # print(voter_dist, voter_block)\n",
    "        # print(len(wm_blocks))\n",
    "        # voter_block = voter_block.upper()\n",
    "        voter_match_block = process.extractOne(voter_block.upper(), wm_blocks)\n",
    "        # print(voter_block, voter_match_block)\n",
    "        voter_files.loc[(voter_files['Matched_District']==voter_dist) & (voter_files['SubDistrictName']==voter_block), 'Matched_Block'] = voter_match_block[0]\n",
    "        voter_files.loc[(voter_files['Matched_District']==voter_dist) & (voter_files['SubDistrictName']==voter_block), 'Block_match_score'] = voter_match_block[1]\n",
    "        # break\n",
    "    # break"
   ]
  },
  {
   "cell_type": "code",
   "execution_count": null,
   "id": "796a1cef-d9ed-404a-85e5-596b643809b2",
   "metadata": {},
   "outputs": [],
   "source": [
    "wm_ugp['DistrictName'].unique()"
   ]
  },
  {
   "cell_type": "code",
   "execution_count": null,
   "id": "1848b60a-cd23-486c-9000-df5c14754fd2",
   "metadata": {},
   "outputs": [],
   "source": [
    "voter_files[['DistrictName', 'SubDistrictName', 'Matched_Block']].drop_duplicates()[150:]"
   ]
  },
  {
   "cell_type": "markdown",
   "id": "78d928a6-5b9f-47ef-af63-9d9f2dfed0e4",
   "metadata": {},
   "source": [
    "### 3.3 Fuzzy merge voter roll and sample GPs"
   ]
  },
  {
   "cell_type": "code",
   "execution_count": null,
   "id": "28aecf10-2720-48ff-95b3-072f7bc472ea",
   "metadata": {},
   "outputs": [],
   "source": [
    "#Fuzzy match GP\n",
    "for voter_dist in voter_files['Matched_District'].unique():\n",
    "    for voter_block in voter_files[voter_files['Matched_District']==voter_dist]['Matched_Block'].unique():\n",
    "        wm_gp_list = (wm_ugp[(wm_ugp['DistrictName']==voter_dist) & (wm_ugp['SubDistrictName']==voter_block)]['GramPanchayatName'].unique()).tolist()\n",
    "        # print(voter_dist, voter_block, wm_gp_list)\n",
    "        for voter_gp in voter_files[(voter_files['Matched_District']==voter_dist) & (voter_files['Matched_Block']==voter_block)]['GramPanchayatName'].unique():\n",
    "            # print(voter_dist, voter_block, voter_gp)\n",
    "            voter_match_gp = process.extractOne(voter_gp.upper(), wm_gp_list)\n",
    "            print(voter_gp, voter_match_gp)            \n",
    "            voter_files.loc[(voter_files['Matched_District']==voter_dist) & (voter_files['Matched_Block']==voter_block) & (voter_files['GramPanchayatName']==voter_gp), 'Matched_GP'] = voter_match_gp[0]\n",
    "            voter_files.loc[(voter_files['Matched_District']==voter_dist) & (voter_files['Matched_Block']==voter_block) & (voter_files['GramPanchayatName']==voter_gp), 'GP_match_score'] = voter_match_gp[1]\n",
    "            # break\n",
    "        # # break"
   ]
  },
  {
   "cell_type": "code",
   "execution_count": null,
   "id": "85056575-6210-4a19-ae8b-289e721cd2f3",
   "metadata": {},
   "outputs": [],
   "source": [
    "voter_files['GP_match_score'].describe()"
   ]
  },
  {
   "cell_type": "code",
   "execution_count": null,
   "id": "b0461763-7858-438f-af17-6aa8d53e06c6",
   "metadata": {},
   "outputs": [],
   "source": [
    "voter_gp_check = (voter_files.loc[(voter_files['GP_match_score']<80)][['Matched_District', 'Matched_Block', 'GramPanchayatName', 'Matched_GP', 'GP_match_score']])"
   ]
  },
  {
   "cell_type": "code",
   "execution_count": null,
   "id": "a6793462-0f42-402a-b4f8-5c779d3ddfd2",
   "metadata": {},
   "outputs": [],
   "source": [
    "voter_gp_check.drop_duplicates()[30:]"
   ]
  },
  {
   "cell_type": "code",
   "execution_count": null,
   "id": "b8f75534-e63c-47cd-a0f2-8ecf112a73f9",
   "metadata": {},
   "outputs": [],
   "source": [
    "# voter_files.loc[(voter_files['Matched_District']=='PURNIA') & (voter_files['Matched_Block']=='AMOUR') & (voter_files['GramPanchayatName']=='Jhouwari'), 'Matched_GP']=np.nan"
   ]
  },
  {
   "cell_type": "code",
   "execution_count": null,
   "id": "7f2a9a66-c2d8-4cc9-81e0-f539e8b73e97",
   "metadata": {},
   "outputs": [],
   "source": [
    "voter_files.loc[voter_files.duplicated(subset=['Matched_District', 'Matched_Block', 'GramPanchayatName', 'WardNo'], keep=False)]"
   ]
  },
  {
   "cell_type": "code",
   "execution_count": null,
   "id": "d5bd07b6-8213-45a4-baa7-130bb7e450b2",
   "metadata": {},
   "outputs": [],
   "source": [
    "# (voter_files.loc[(voter_files['Matched_District']=='PURBI CHAMPARAN') & (voter_files['Matched_Block']=='TURKAULIA')]['GramPanchayatName']).unique()"
   ]
  },
  {
   "cell_type": "code",
   "execution_count": null,
   "id": "6885dab6-0d9d-403b-a314-ece0779f8e5e",
   "metadata": {},
   "outputs": [],
   "source": [
    "voter_files.loc[(voter_files['Matched_Block'].isna()) | (voter_files['Matched_GP'].isna())]"
   ]
  },
  {
   "cell_type": "code",
   "execution_count": null,
   "id": "81b3deff-0cbf-40ea-a3c1-386e16a6dcae",
   "metadata": {},
   "outputs": [],
   "source": [
    "#Keep only the ones where Matched_Block and Matched_SubDistrict are no-missing and map ugp to them\n",
    "voter_sample_files = voter_files.loc[(voter_files['Matched_Block'].notna()) & (voter_files['Matched_GP'].notna())]"
   ]
  },
  {
   "cell_type": "code",
   "execution_count": null,
   "id": "fc74d1bd-0009-47e9-bf86-992dbaff9717",
   "metadata": {},
   "outputs": [],
   "source": [
    "voter_sample_files['WardNo'].dtype"
   ]
  },
  {
   "cell_type": "code",
   "execution_count": null,
   "id": "9ec56523-b039-40c9-bc20-3632638c3e8f",
   "metadata": {},
   "outputs": [],
   "source": [
    "wm_ugp['WardNo'].dtype"
   ]
  },
  {
   "cell_type": "code",
   "execution_count": null,
   "id": "bfaec4d5-72fa-41b6-9a27-40625a87eaa2",
   "metadata": {},
   "outputs": [],
   "source": [
    "wm_ugp.loc[:, 'WardNo'] = wm_ugp.loc[:, 'WardNo'].astype('int')"
   ]
  },
  {
   "cell_type": "code",
   "execution_count": null,
   "id": "941fd988-2b96-4830-9c85-852332f8db96",
   "metadata": {},
   "outputs": [],
   "source": [
    "voter_sample_files.loc[:, 'WardNo'] = voter_sample_files.loc[:, 'WardNo'].astype('int')"
   ]
  },
  {
   "cell_type": "code",
   "execution_count": null,
   "id": "93d6a660-2367-46ea-a692-00f031e3f9ff",
   "metadata": {},
   "outputs": [],
   "source": [
    "voter_files.shape"
   ]
  },
  {
   "cell_type": "code",
   "execution_count": null,
   "id": "ad9daf27-25fc-4cd5-a581-211d70c6afbe",
   "metadata": {},
   "outputs": [],
   "source": [
    "voter_sample_files.shape"
   ]
  },
  {
   "cell_type": "code",
   "execution_count": null,
   "id": "8cda3812-0efa-4ccd-8310-d56fe6dad9b0",
   "metadata": {},
   "outputs": [],
   "source": [
    "voter_sample_files = voter_sample_files.rename(columns={'WardNo':'WardNo_Voter'})"
   ]
  },
  {
   "cell_type": "markdown",
   "id": "907a803a-0211-4c20-892e-8635c57842cb",
   "metadata": {},
   "source": [
    "### 3.4 Merge voter roll and sample files on district_block_gp and wardnumber"
   ]
  },
  {
   "cell_type": "code",
   "execution_count": null,
   "id": "ef4216b9-1e61-4982-b005-f50724cba60f",
   "metadata": {},
   "outputs": [],
   "source": [
    "voter_sample_files = pd.merge(voter_sample_files, wm_ugp, left_on=['Matched_District', 'Matched_Block', 'Matched_GP', 'WardNo_Voter'], right_on=['DistrictName', 'SubDistrictName', 'GramPanchayatName', 'WardNo'], how='left', suffixes=('', '_wm'))"
   ]
  },
  {
   "cell_type": "code",
   "execution_count": null,
   "id": "b244110f-5cf2-447c-9618-13cb006bd033",
   "metadata": {},
   "outputs": [],
   "source": [
    "voter_sample_files.WardNo.dtype"
   ]
  },
  {
   "cell_type": "code",
   "execution_count": null,
   "id": "8dcd4a0f-7973-42dd-aa32-50f703b2b08d",
   "metadata": {},
   "outputs": [],
   "source": [
    "voter_sample_files.WardNo_Voter.dtype"
   ]
  },
  {
   "cell_type": "code",
   "execution_count": null,
   "id": "78063a9e-8974-41b0-a99a-69d4d9d8ce2e",
   "metadata": {},
   "outputs": [],
   "source": [
    "voter_sample_files.shape"
   ]
  },
  {
   "cell_type": "code",
   "execution_count": null,
   "id": "ac71151e-fe44-400e-8106-77e50517befd",
   "metadata": {},
   "outputs": [],
   "source": [
    "voter_sample_files.loc[voter_sample_files['UGP'].notnull()]"
   ]
  },
  {
   "cell_type": "code",
   "execution_count": null,
   "id": "e8e09093-9996-4580-8612-e137e8c9daf2",
   "metadata": {},
   "outputs": [],
   "source": [
    "voter_sample_files.WardNo_Voter.nunique()"
   ]
  },
  {
   "cell_type": "code",
   "execution_count": null,
   "id": "5c5c49ad-12b0-4e5e-90ba-dd639a1456ed",
   "metadata": {},
   "outputs": [],
   "source": [
    "voter_sample_files['WardNo'].nunique()"
   ]
  },
  {
   "cell_type": "code",
   "execution_count": null,
   "id": "454e51be-cbde-43bb-9698-b84252e09b5c",
   "metadata": {},
   "outputs": [],
   "source": [
    "voter_sample_files.loc[(voter_sample_files['WardNo'].notnull())]['WardNo_Voter'].nunique()"
   ]
  },
  {
   "cell_type": "code",
   "execution_count": null,
   "id": "35f047b3-200d-46ae-9ef1-2538a6865d0e",
   "metadata": {},
   "outputs": [],
   "source": [
    "voter_sample_files = voter_sample_files.loc[(voter_sample_files['UGP'].notnull()) & (voter_sample_files['WardNo'].notnull())]"
   ]
  },
  {
   "cell_type": "code",
   "execution_count": null,
   "id": "6d37ac23-892d-4d9d-b2f4-d74318019179",
   "metadata": {},
   "outputs": [],
   "source": [
    "voter_sample_files = voter_sample_files[['DistrictName', 'SubDistrictName', 'GramPanchayatName', 'WardNo','Matched_District', 'Matched_Block', 'Block_match_score', 'Matched_GP','GP_match_score', 'UGP']]"
   ]
  },
  {
   "cell_type": "code",
   "execution_count": null,
   "id": "865dbd4a-ff41-4165-ac01-1f5281e1bd6b",
   "metadata": {},
   "outputs": [],
   "source": [
    "voter_sample_files.shape"
   ]
  },
  {
   "cell_type": "code",
   "execution_count": null,
   "id": "c5d77b7c-e280-4bc5-a6a3-d8cce465993b",
   "metadata": {},
   "outputs": [],
   "source": [
    "voter_sample_files.columns"
   ]
  },
  {
   "cell_type": "code",
   "execution_count": null,
   "id": "ace10e2e-5133-452b-b277-d90fe3511bf0",
   "metadata": {},
   "outputs": [],
   "source": [
    "print(f\"No.of unique UGPs in voter files from our WM sample: {voter_sample_files.shape[0]}\")"
   ]
  },
  {
   "cell_type": "code",
   "execution_count": null,
   "id": "90fe52f9-db8b-4bc6-85c3-374d343e16d8",
   "metadata": {},
   "outputs": [],
   "source": [
    "voter_files.shape"
   ]
  },
  {
   "cell_type": "code",
   "execution_count": null,
   "id": "424b23ad-a47e-462a-b56a-ee6a441f0b12",
   "metadata": {},
   "outputs": [],
   "source": [
    "voter_sample_files['WardNo'] = voter_sample_files['WardNo'].astype('int')"
   ]
  },
  {
   "cell_type": "code",
   "execution_count": null,
   "id": "84117072-7139-47f7-9547-f7d7bbb6fa3d",
   "metadata": {},
   "outputs": [],
   "source": [
    "voter_sample_files"
   ]
  },
  {
   "cell_type": "markdown",
   "id": "1b896878-7c18-453c-bf31-4171e1ac772c",
   "metadata": {},
   "source": [
    "### 3.5 Add UGP identifier to all voter roll csv files in our sample"
   ]
  },
  {
   "cell_type": "code",
   "execution_count": null,
   "id": "1bdd62ed-7b0c-43a8-a527-98abffcc97e2",
   "metadata": {},
   "outputs": [],
   "source": [
    "voter_sample_files['WardNo'] = voter_sample_files['WardNo'].astype('str')"
   ]
  },
  {
   "cell_type": "code",
   "execution_count": null,
   "id": "93ab5ec6-b536-4823-84f1-aff4468e2a91",
   "metadata": {},
   "outputs": [],
   "source": [
    "voter_sample_files['filename'] = voter_sample_files['DistrictName'] + \"_\" + voter_sample_files['SubDistrictName'] + \"_\" + voter_sample_files['GramPanchayatName'] + \"_\" + voter_sample_files['WardNo'] + \".csv\""
   ]
  },
  {
   "cell_type": "code",
   "execution_count": null,
   "id": "c20c4332-f21b-40e7-a5ae-601dfe424dc4",
   "metadata": {},
   "outputs": [],
   "source": [
    "voter_sample_files['WardNo'] = voter_sample_files['WardNo'].astype('int')"
   ]
  },
  {
   "cell_type": "code",
   "execution_count": null,
   "id": "077f9fe0-411b-48b0-9a13-e2bbf098d5e6",
   "metadata": {
    "scrolled": true
   },
   "outputs": [],
   "source": [
    "# voter_sample_files.loc[voter_sample_files['filename']=='BANKA_Rajoun_Orhara_10.csv']"
   ]
  },
  {
   "cell_type": "code",
   "execution_count": null,
   "id": "4e22f03b-4d53-4588-86e1-55e17cb8fa7f",
   "metadata": {},
   "outputs": [],
   "source": [
    "voter_sample_files.filename.unique()"
   ]
  },
  {
   "cell_type": "code",
   "execution_count": null,
   "id": "7efb0302-e58f-43c2-acf1-ba7cbe873529",
   "metadata": {},
   "outputs": [],
   "source": [
    "all_voter_files_num = 0\n",
    "voter_all_path = os.path.join(db, voter_roll)\n",
    "for file in os.listdir(voter_all_path):\n",
    "    # print(file)\n",
    "    if file in voter_sample_files['filename'].unique():\n",
    "        print(file)\n",
    "        all_voter_files_num +=1\n",
    "        voter_file_csv = pd.read_csv(os.path.join(voter_all_path, file))\n",
    "        ugp = list(voter_sample_files[voter_sample_files['filename']==file]['UGP'])\n",
    "        district = list(voter_sample_files[voter_sample_files['filename']==file]['Matched_District'])\n",
    "        block = list(voter_sample_files[voter_sample_files['filename']==file]['Matched_Block'])\n",
    "        gp = list(voter_sample_files[voter_sample_files['filename']==file]['Matched_GP'])\n",
    "        wardno = list(voter_sample_files[voter_sample_files['filename']==file]['WardNo'])\n",
    "        # print(voter_file_csv['ward_pdf'].dtype)\n",
    "        # if wardno[0] not in voter_file_csv['ward_pdf']:\n",
    "        #     print(file)\n",
    "        #     print(wardno)\n",
    "        #     print(voter_file_csv['ward_pdf'])\n",
    "        #     break\n",
    "        try:\n",
    "            voter_file_csv['UGP'] = ugp[0]\n",
    "            voter_file_csv['DistrictName'] = district[0]\n",
    "            voter_file_csv['SubDistrictName'] = block[0]\n",
    "            voter_file_csv['GramPanchayatName'] = gp[0]\n",
    "            # print(f'{type(ugp)}')\n",
    "            # print(ugp)\n",
    "            # print(voter_file_csv)\n",
    "            # break\n",
    "        except Exception as e:\n",
    "            print(f'UGP not found for file {file}: {e}')\n",
    "            print(f'{type(ugp)}')\n",
    "            print(ugp[0])\n",
    "            break\n",
    "\n",
    "        #Now, write it back to csv\n",
    "        try:\n",
    "            voter_file_csv.to_csv(os.path.join(voter_all_path, file), index=False)\n",
    "            print(f'{file} updated')\n",
    "            # break\n",
    "        except Exception as e:\n",
    "            print(f'{file} not updated: {e}')\n",
    "            break\n",
    "\n",
    "#         # #Read back the first one\n",
    "#         # # voter_file_csv = pd.read_csv(os.path.join(voter_all_path, file))\n",
    "#         # # print(voter_file_csv)\n",
    "#         # # break\n",
    "print(all_voter_files_num)"
   ]
  },
  {
   "cell_type": "code",
   "execution_count": null,
   "id": "22a7d810-d46b-43a8-b762-6c31c5b8b27e",
   "metadata": {},
   "outputs": [],
   "source": [
    "voter_file_csv.columns"
   ]
  },
  {
   "cell_type": "markdown",
   "id": "a547ccbd-9c02-42c4-8574-71a6a1cb7e3f",
   "metadata": {},
   "source": [
    "## 4. Move all voter roll csv files in our sample to a separate folder"
   ]
  },
  {
   "cell_type": "code",
   "execution_count": null,
   "id": "e600edee-0a87-4967-8824-499ae6e6c0a0",
   "metadata": {},
   "outputs": [],
   "source": [
    "file_nums = []\n",
    "for file in os.listdir(os.path.join(db, voter_roll)):\n",
    "    if os.path.isdir(os.path.join(db, voter_roll, file)):\n",
    "        try:\n",
    "            # print(file)\n",
    "            sam_num = int(file.split('_')[-1])\n",
    "            # print(sam_num)\n",
    "            file_nums.append(sam_num)\n",
    "        except ValueError:\n",
    "            print(f\"{file} does not end with a number.\")\n",
    "            continue\n",
    "# print(file_nums)\n",
    "last_sample = max(file_nums)\n",
    "print(last_sample)\n",
    "voter_sample_folder = f\"Files_in_Sample_SET_{last_sample+1}\"\n",
    "print(voter_sample_folder)"
   ]
  },
  {
   "cell_type": "code",
   "execution_count": null,
   "id": "12a4549e-10be-4298-a9f5-a1ac49142358",
   "metadata": {},
   "outputs": [],
   "source": [
    "#Now, move all the csv files in voter_df_merged - which are the ones in our sample to a different folder\n",
    "if not os.path.exists(os.path.join(db, voter_roll, voter_sample_folder)):\n",
    "    os.makedirs(os.path.join(db, voter_roll, voter_sample_folder))\n",
    "print(os.path.join(db, voter_roll, voter_sample_folder))"
   ]
  },
  {
   "cell_type": "code",
   "execution_count": null,
   "id": "6396a62f-d160-4e60-ac0a-125d79539ffc",
   "metadata": {},
   "outputs": [],
   "source": [
    "voter_all_path = os.path.join(db, voter_roll)\n",
    "for file in os.listdir(voter_all_path):\n",
    "    print(file)"
   ]
  },
  {
   "cell_type": "code",
   "execution_count": null,
   "id": "ade25e39-0463-45c7-8cdb-b3aaa7c61b7d",
   "metadata": {},
   "outputs": [],
   "source": [
    "voter_sample_path = os.path.join(db, voter_roll, voter_sample_folder)\n",
    "voter_all_path = os.path.join(db, voter_roll)\n",
    "for file in os.listdir(voter_all_path):\n",
    "    if file in voter_sample_files['filename'].unique():\n",
    "        try:\n",
    "            os.rename(os.path.join(voter_all_path, file), os.path.join(voter_sample_path, file))\n",
    "        except Exception as e:\n",
    "            print(f\"Exception for {file}: {e}\")"
   ]
  },
  {
   "cell_type": "code",
   "execution_count": null,
   "id": "2da46837-b100-4d95-be56-735e8b358aab",
   "metadata": {},
   "outputs": [],
   "source": [
    "#No. of files in each path\n",
    "voter_all_path = os.path.join(db, voter_roll)\n",
    "sample_files_list = []\n",
    "for file in os.listdir(voter_sample_path):\n",
    "    if file.endswith('.csv'):\n",
    "        sample_files_list.append(file)\n",
    "print(f\"No.of voter roll csvs in sample: {len(sample_files_list)}\")\n",
    "\n",
    "all_files_list = []\n",
    "for file in os.listdir(voter_all_path):\n",
    "    if file!='.DS_Store' and file!='all_files.csv' and file.endswith('.csv'):\n",
    "        all_files_list.append(file)\n",
    "print(f\"No.of voter roll csvs not in sample: {len(all_files_list)}\")"
   ]
  },
  {
   "cell_type": "markdown",
   "id": "3a7ba554-ff66-4295-afbb-8981df627433",
   "metadata": {},
   "source": [
    "### 4.1 Out of those in our sample, isolate those where ward_pds does not match with the ward number in the name of the file"
   ]
  },
  {
   "cell_type": "code",
   "execution_count": null,
   "id": "0ad28f9b-9600-40e1-aa3c-ddd0d08ad58f",
   "metadata": {},
   "outputs": [],
   "source": [
    "unmatch_csvs = []\n",
    "for file in os.listdir(voter_sample_path):\n",
    "    if file.endswith('.csv'):\n",
    "        # print(file)\n",
    "        df = pd.read_csv(os.path.join(voter_sample_path, file))\n",
    "        # print(df.columns)\n",
    "        ward_pdf = df['ward_pdf'][0]\n",
    "        # print(ward_pdf)\n",
    "        filename_ward = file.split('_')[-1].split('.')[0]\n",
    "        # print(filename_ward)\n",
    "        if ward_pdf==np.nan:\n",
    "            print(f\"Ward inside csv file: {ward_pdf}\")\n",
    "            print(f\"Ward in file name: {filename_ward}\")\n",
    "            unmatch_csvs.append(file)\n",
    "            continue\n",
    "        try:\n",
    "            if float(ward_pdf)!=float(filename_ward):\n",
    "                # print(file)\n",
    "                # print(f\"Ward inside csv file: {ward_pdf}\")\n",
    "                # print(f\"Ward in file name: {filename_ward}\")\n",
    "                unmatch_csvs.append(file)\n",
    "                # break\n",
    "        except ValueError:\n",
    "            print(f\"Value error for {file}. Ward PDF: {ward_pdf}\")\n",
    "            unmatch_csvs.append(file)\n",
    "\n",
    "len(unmatch_csvs)"
   ]
  },
  {
   "cell_type": "code",
   "execution_count": null,
   "id": "9086fda8-d544-4b0d-a640-5cf5723272fa",
   "metadata": {},
   "outputs": [],
   "source": [
    "### Open the csvs where ward_pdf is different from ward in filename, replace ward_pdf with ward in filename, overwrite the csvs and move them to a new folder\n",
    "\n",
    "for file in os.listdir(voter_sample_path):\n",
    "    if file in unmatch_csvs:\n",
    "        print(file)\n",
    "        df = pd.read_csv(os.path.join(voter_sample_path, file))\n",
    "        filename_ward = file.split('_')[-1].split('.')[0]\n",
    "        if len(filename_ward)!=0:\n",
    "            # print(df['ward_pdf'][0])\n",
    "            df.loc[:, 'ward_pdf'] = float(filename_ward)\n",
    "            # print(df['ward_pdf'][0])\n",
    "            df.to_csv(os.path.join(voter_sample_path, file), index=False)"
   ]
  },
  {
   "cell_type": "markdown",
   "id": "a6cb69e6-99f2-4eb4-9b76-387acba2ce81",
   "metadata": {},
   "source": [
    "### 4.1 Open all voter roll csv file and add a random order column at individual level if they don't already have one"
   ]
  },
  {
   "cell_type": "code",
   "execution_count": null,
   "id": "2c085ad3-aceb-4a7f-9eef-a6ac593dfed9",
   "metadata": {},
   "outputs": [],
   "source": [
    "for file in os.listdir(voter_sample_path):\n",
    "    voter_file = pd.read_csv(os.path.join(voter_sample_path, file))\n",
    "    voter_file_cols = list(voter_file.columns)\n",
    "    # print(voter_file_cols)\n",
    "    if 'Voter_Random_Order' not in voter_file_cols:\n",
    "        voter_file['Voter_Random_Order'] = [random.randint(1, 100000000) for k in voter_file.index]\n",
    "        # print(voter_file['Voter_Random_Order'])\n",
    "        voter_file.to_csv(os.path.join(voter_sample_path, file), index=False)\n",
    "        # break\n",
    "    else:\n",
    "        print(f'Random number there already for file {file}')\n",
    "        # break"
   ]
  },
  {
   "cell_type": "markdown",
   "id": "e54c16be-e218-4046-8ff6-5ea3814efbdd",
   "metadata": {},
   "source": [
    "### 4.2 Give each voter roll csv file a random number ordering"
   ]
  },
  {
   "cell_type": "code",
   "execution_count": null,
   "id": "5d5434bc-42e6-427c-8008-5224665f0801",
   "metadata": {},
   "outputs": [],
   "source": [
    "start = time.perf_counter()\n",
    "for file in os.listdir(voter_sample_path):\n",
    "    print(file)\n",
    "    file_path = os.path.join(voter_sample_path, file)\n",
    "    # print(file_path)\n",
    "    voter_ward_id = random.randint(1, 10000)\n",
    "    newfile = str(voter_ward_id) + '_' + file\n",
    "    newfile_path = os.path.join(voter_sample_path, newfile)\n",
    "    # print(newfile_path)\n",
    "    try:\n",
    "        os.rename(file_path, newfile_path)\n",
    "        print(f\"{file} renamed to {newfile}.\")\n",
    "        # break\n",
    "    except IsADirectoryError:\n",
    "        print(f\"{file} is a directory.\")\n",
    "        break\n",
    "end = time.perf_counter()\n",
    "time_taken = end-start\n",
    "print(f\"Time taken = {time_taken:.3f} seconds.\")"
   ]
  },
  {
   "cell_type": "code",
   "execution_count": null,
   "id": "98c2206f-7c37-492a-876d-1d693d01efde",
   "metadata": {},
   "outputs": [],
   "source": [
    "# voter_sample_folder = 'Files_in_Sample_SET_31'\n",
    "# voter_sample_path = os.path.join(db, voter_roll, voter_sample_folder)"
   ]
  },
  {
   "cell_type": "code",
   "execution_count": null,
   "id": "f1f5706b-b860-47b8-9bfa-e0d3138834c7",
   "metadata": {},
   "outputs": [],
   "source": [
    "#Now sort the files by their random order\n",
    "sample_files = glob.iglob(voter_sample_path + \"/*.csv\")\n",
    "sample_files_sorted = sorted(sample_files, key = lambda x: int(x.split('/')[-1].split('_')[0]))\n",
    "# for file in sample_files_sorted:\n",
    "#     print(file)"
   ]
  },
  {
   "cell_type": "code",
   "execution_count": null,
   "id": "6ce6d77a-d451-450b-9b83-8a28ff322715",
   "metadata": {},
   "outputs": [],
   "source": [
    "# #Check if Files_in_Sample_SET3 has duplicates\n",
    "# # sample_files = glob.glob(voter_sample_path + \"/*.csv\")\n",
    "# sample_file_dict = {}\n",
    "# for file in os.listdir(voter_sample_path):\n",
    "#     sample_file_dict[file] = 0\n",
    "#     # print(sample_file_dict[file])\n",
    "# for file in os.listdir(voter_sample_path):\n",
    "#     sample_file_dict[file] = int(sample_file_dict[file])+1\n",
    "#     # print(sample_file_dict[file])\n",
    "#     # break"
   ]
  },
  {
   "cell_type": "markdown",
   "id": "90bee5c0-7bd8-4dfd-9974-73891322dd03",
   "metadata": {},
   "source": [
    "## 5. Open all voter roll csv files in our sample and append to a dataframe"
   ]
  },
  {
   "cell_type": "code",
   "execution_count": null,
   "id": "c849eed0-1d2b-4836-8b51-54d918e7102b",
   "metadata": {},
   "outputs": [],
   "source": [
    "## 5. Open all voter roll csv files in our sample and append to a dataframe\n",
    "voter_sample_files = []\n",
    "for file in sample_files_sorted:\n",
    "    # print(file)\n",
    "    # voter_file = pd.read_csv(os.path.join(voter_sample_path, file))\n",
    "    voter_file = pd.read_csv(file)\n",
    "    # print(type(voter_file))\n",
    "    voter_sample_files.append(voter_file)\n",
    "voter_df = pd.concat(voter_sample_files)"
   ]
  },
  {
   "cell_type": "code",
   "execution_count": null,
   "id": "5b200df1-6cfa-4418-8b1d-725d7243e70d",
   "metadata": {},
   "outputs": [],
   "source": [
    "print(f'Total observations in sampled voter csv files before de-duplicating: {voter_df.shape[0]}')"
   ]
  },
  {
   "cell_type": "code",
   "execution_count": null,
   "id": "e2d6c8ce-eeaa-4938-b381-344ad5543be2",
   "metadata": {},
   "outputs": [],
   "source": [
    "voter_df.columns"
   ]
  },
  {
   "cell_type": "code",
   "execution_count": null,
   "id": "2fe72ffe-ba17-4690-98c0-83d54b69466e",
   "metadata": {},
   "outputs": [],
   "source": [
    "#Check for duplicates\n",
    "voter_df[voter_df.duplicated(subset=['UGP', 'ward_pdf', 'elector_name', 'father_or_husband_name'], keep='first')].sort_values(['UGP', 'ward_pdf', 'elector_name', 'father_or_husband_name'])[['UGP', 'ward_pdf', 'elector_name', 'father_or_husband_name']]"
   ]
  },
  {
   "cell_type": "code",
   "execution_count": null,
   "id": "157f0fbb-8c11-47ec-a391-2a14b68a2800",
   "metadata": {},
   "outputs": [],
   "source": [
    "voter_df = voter_df.drop_duplicates(subset=['UGP', 'ward_pdf', 'elector_name', 'father_or_husband_name'], keep='first').sort_values(['UGP', 'ward_pdf', 'elector_name', 'father_or_husband_name'])"
   ]
  },
  {
   "cell_type": "code",
   "execution_count": null,
   "id": "6508ebe8-2415-4482-aed7-553bbc277c5d",
   "metadata": {},
   "outputs": [],
   "source": [
    "print(f\"No.of observations in sample voter csvs after de-duplicating: {voter_df.shape[0]}\")"
   ]
  },
  {
   "cell_type": "markdown",
   "id": "93549f5c-169a-4511-8282-a4d4232e035e",
   "metadata": {},
   "source": [
    "## 6. Merge with full PDS sample and create a dataframe with only the wards for which we have voter roll csvs"
   ]
  },
  {
   "cell_type": "code",
   "execution_count": null,
   "id": "f52330c5-f435-4423-beae-268b3769f3a8",
   "metadata": {},
   "outputs": [],
   "source": [
    "type(pds_df['Mobile'][0])"
   ]
  },
  {
   "cell_type": "code",
   "execution_count": null,
   "id": "50c1bfa2-3a3a-4b4b-bb84-ea5a9626be97",
   "metadata": {},
   "outputs": [],
   "source": [
    "pds_df.shape"
   ]
  },
  {
   "cell_type": "code",
   "execution_count": null,
   "id": "4b219eee-2122-4909-875d-8277067f41c8",
   "metadata": {
    "scrolled": true
   },
   "outputs": [],
   "source": [
    "pds_df.columns"
   ]
  },
  {
   "cell_type": "code",
   "execution_count": null,
   "id": "c2ed3780-7875-4844-93ae-92f639be6448",
   "metadata": {},
   "outputs": [],
   "source": [
    "print(f\"No.of observations in PDS full sample: {pds_df.shape[0]}\")"
   ]
  },
  {
   "cell_type": "code",
   "execution_count": null,
   "id": "b565e09f-fd97-4f92-a367-3d54cbaaf3b1",
   "metadata": {},
   "outputs": [],
   "source": [
    "pds_df['UGP'] = pds_df['UGP'].astype('float')"
   ]
  },
  {
   "cell_type": "code",
   "execution_count": null,
   "id": "a8c6ad9a-8edd-4d25-bdb6-f90103fa53a3",
   "metadata": {},
   "outputs": [],
   "source": [
    "pds_df['UGP'].nunique()"
   ]
  },
  {
   "cell_type": "code",
   "execution_count": null,
   "id": "4b765ea8-16c5-4dd0-8623-4aa6316a09f7",
   "metadata": {},
   "outputs": [],
   "source": [
    "### 6.1 Removing duplicates and invalid phone numbers from full PDS sample and saving a csv -->"
   ]
  },
  {
   "cell_type": "code",
   "execution_count": null,
   "id": "460e72f2-2b21-4494-a7c3-9573383bfc02",
   "metadata": {},
   "outputs": [],
   "source": [
    "# pds_df['Mobile'] = pds_df['Mobile'].map(\n",
    "#     lambda x: re.sub(\"[^0-9]\", \"\", x))"
   ]
  },
  {
   "cell_type": "code",
   "execution_count": null,
   "id": "9358ca5e-8a9a-45a3-91e5-909031aec3fc",
   "metadata": {},
   "outputs": [],
   "source": [
    "# pds_df = pds_df.loc[pds_df['Mobile'].str.len()==10]"
   ]
  },
  {
   "cell_type": "code",
   "execution_count": null,
   "id": "4d84ec67-9244-4f1a-a00d-a4fbf54a9405",
   "metadata": {},
   "outputs": [],
   "source": [
    "# pds_df = pds_df.drop_duplicates(subset=['Mobile'], keep='first')"
   ]
  },
  {
   "cell_type": "code",
   "execution_count": null,
   "id": "05cb06df-c8e3-431c-a5fe-97dded53dcc9",
   "metadata": {},
   "outputs": [],
   "source": [
    "# pds_df.shape[0]"
   ]
  },
  {
   "cell_type": "code",
   "execution_count": null,
   "id": "99486944-1a67-4c50-b40d-bf3938a00600",
   "metadata": {},
   "outputs": [],
   "source": [
    "# pds_df.to_csv(os.path.join(db, pds_input, 'Citizen Endline Sample Priority F.csv'), index=False)"
   ]
  },
  {
   "cell_type": "markdown",
   "id": "224215e0-d0aa-44c1-b756-d19f6e729048",
   "metadata": {},
   "source": [
    "### 6.2 Create dataframe with only UGP and ward in sample voter roll files"
   ]
  },
  {
   "cell_type": "code",
   "execution_count": null,
   "id": "8e13f6b5-5e4a-42f5-adbc-55b38c740758",
   "metadata": {},
   "outputs": [],
   "source": [
    "pds_df.shape"
   ]
  },
  {
   "cell_type": "code",
   "execution_count": null,
   "id": "d20254a5-ae49-451f-be12-a2980f845dc3",
   "metadata": {},
   "outputs": [],
   "source": [
    "# Create dataframe with only UGP and ward in sample voter roll files\n",
    "pds_df[pds_df['UGP'].isin(voter_df['UGP'].unique())]['UGP'].nunique()"
   ]
  },
  {
   "cell_type": "code",
   "execution_count": null,
   "id": "c3d7e4b1-831e-4a6a-9de6-89c2ec6c22cc",
   "metadata": {},
   "outputs": [],
   "source": [
    "voter_df['UGP'].nunique()"
   ]
  },
  {
   "cell_type": "code",
   "execution_count": null,
   "id": "e773e530-a440-476e-915b-40e26c79c2bc",
   "metadata": {},
   "outputs": [],
   "source": [
    "# print('Voter files have 836 unique UGP but PDS sample has only 831')"
   ]
  },
  {
   "cell_type": "code",
   "execution_count": null,
   "id": "70df56eb-73f8-4487-866f-e891ed2653ac",
   "metadata": {},
   "outputs": [],
   "source": [
    "pds_df_slice = pds_df[pds_df['UGP'].isin(voter_df['UGP'].unique())]"
   ]
  },
  {
   "cell_type": "code",
   "execution_count": null,
   "id": "9d8d710f-c3b1-4a64-b623-6dec30f01f71",
   "metadata": {},
   "outputs": [],
   "source": [
    "pds_df_slice.columns"
   ]
  },
  {
   "cell_type": "code",
   "execution_count": null,
   "id": "be078bca-5a3e-45c4-9c27-30a75cc8b2c4",
   "metadata": {},
   "outputs": [],
   "source": [
    "print(f\"No.of observations in PDS sample with UGPs in our sample: {pds_df_slice.shape[0]}\")"
   ]
  },
  {
   "cell_type": "code",
   "execution_count": null,
   "id": "b0a92ec9-7aeb-47e1-a23b-054d18b2d740",
   "metadata": {},
   "outputs": [],
   "source": [
    "pds_allnames = pds_df_slice['AllNames'].str.split(',', expand=True)\n",
    "# print(type(pds_allnames))\n",
    "pds_allnames.columns = [f\"Member_{i+1}\" for i in range(pds_allnames.shape[1])]\n",
    "pds_df_slice = pd.concat([pds_df_slice, pds_allnames], axis=1)"
   ]
  },
  {
   "cell_type": "markdown",
   "id": "2a4dbd97-26f2-48af-8804-21cbe977cbd2",
   "metadata": {},
   "source": [
    "### 6.3 Transliterate"
   ]
  },
  {
   "cell_type": "code",
   "execution_count": null,
   "id": "20b0ea84-86ae-4491-bf9b-545134369cab",
   "metadata": {},
   "outputs": [],
   "source": [
    "pds_df_slice.columns"
   ]
  },
  {
   "cell_type": "code",
   "execution_count": null,
   "id": "384e4854-3686-4fd8-afa9-4a00bffffd8a",
   "metadata": {},
   "outputs": [],
   "source": [
    "#Put all member columns to a list\n",
    "columns_to_trans = []\n",
    "for col in pds_df_slice.columns:\n",
    "    if ('Member' in col or col=='Father_Name') and col!='Member_ID':\n",
    "        # print(col)\n",
    "        columns_to_trans.append(col)\n",
    "print(columns_to_trans)"
   ]
  },
  {
   "cell_type": "code",
   "execution_count": null,
   "id": "66347a7c-3805-41be-90b6-720ece42d389",
   "metadata": {},
   "outputs": [],
   "source": [
    "#Transliterate the Hindi names into English\n",
    "\n",
    "pds_df_slice[columns_to_trans] = pds_df_slice[columns_to_trans].map(\n",
    "    lambda x: unicodedata.normalize('NFC', x) if isinstance(x, str) else x\n",
    ")\n",
    "\n",
    "pds_df_slice[columns_to_trans] = pds_df_slice[columns_to_trans].map(\n",
    "    lambda x: transliterate(x, sanscript.DEVANAGARI, sanscript.ITRANS) if isinstance(x, str) else x\n",
    ")\n",
    "\n",
    "pds_df_slice[columns_to_trans] = pds_df_slice[columns_to_trans].map(\n",
    "    lambda x: x.upper() if isinstance(x, str) else x\n",
    ")"
   ]
  },
  {
   "cell_type": "code",
   "execution_count": null,
   "id": "ea6095c7-a0cf-4b80-8a0e-423500f9dbeb",
   "metadata": {},
   "outputs": [],
   "source": [
    "voter_cols_to_translate = ['elector_name', 'father_or_husband_name']\n",
    "\n",
    "voter_df[voter_cols_to_translate] = voter_df[voter_cols_to_translate].map(\n",
    "    lambda x: unicodedata.normalize('NFC', x) if isinstance(x, str) else x\n",
    ")\n",
    "\n",
    "voter_df[voter_cols_to_translate] = voter_df[voter_cols_to_translate].map(\n",
    "    lambda x: transliterate(x, sanscript.DEVANAGARI, sanscript.ITRANS) if isinstance(x, str) else x\n",
    ")\n",
    "\n",
    "voter_df[voter_cols_to_translate] = voter_df[voter_cols_to_translate].map(\n",
    "    lambda x: x.upper() if isinstance(x, str) else x\n",
    ")"
   ]
  },
  {
   "cell_type": "code",
   "execution_count": null,
   "id": "478647af-574d-4443-be66-8b4b9d682f72",
   "metadata": {},
   "outputs": [],
   "source": [
    "voter_df.columns"
   ]
  },
  {
   "cell_type": "code",
   "execution_count": null,
   "id": "22e219a6-a3df-4916-aacf-07584efa8706",
   "metadata": {},
   "outputs": [],
   "source": [
    "voter_df = voter_df.rename(columns={'ward_pdf':'WardNo'})"
   ]
  },
  {
   "cell_type": "code",
   "execution_count": null,
   "id": "8e468fc9-06c3-495f-9878-eba1244f81d8",
   "metadata": {},
   "outputs": [],
   "source": [
    "pds_df_slice.columns"
   ]
  },
  {
   "cell_type": "code",
   "execution_count": null,
   "id": "eb1b3323-d7fa-4187-a146-27c6e4794236",
   "metadata": {},
   "outputs": [],
   "source": [
    "pds_col_names = list(pds_df_slice.columns.values)"
   ]
  },
  {
   "cell_type": "code",
   "execution_count": null,
   "id": "0d23bf9d-c7a7-4dbe-aa1f-b6965e73ec26",
   "metadata": {},
   "outputs": [],
   "source": [
    "for col in pds_col_names:\n",
    "    print(pds_col_names.index(col), col)"
   ]
  },
  {
   "cell_type": "code",
   "execution_count": null,
   "id": "659b318e-6a98-41a6-adb5-194d3379a917",
   "metadata": {},
   "outputs": [],
   "source": [
    "#Convert all '' and None to null\n",
    "pds_df_slice = pds_df_slice.iloc[:, :].replace('', np.nan)"
   ]
  },
  {
   "cell_type": "code",
   "execution_count": null,
   "id": "32b706df-7eaf-4235-8f4e-a4df8b03e2a2",
   "metadata": {},
   "outputs": [],
   "source": [
    "for col in pds_df_slice.columns:\n",
    "    pds_df_slice.loc[pds_df_slice[col]=='', col] = np.nan"
   ]
  },
  {
   "cell_type": "code",
   "execution_count": null,
   "id": "dafd6a87-b502-4aab-8a46-7bb61c91d66e",
   "metadata": {},
   "outputs": [],
   "source": [
    "voter_df.columns"
   ]
  },
  {
   "cell_type": "code",
   "execution_count": null,
   "id": "c7491db3-0e3b-4495-94a2-9ccdbcf1ac46",
   "metadata": {},
   "outputs": [],
   "source": [
    "voter_df.loc[(voter_df['father_or_husband_name']==''), 'father_or_husband_name'] = np.nan"
   ]
  },
  {
   "cell_type": "code",
   "execution_count": null,
   "id": "9aea7dac-387d-4d6d-a7df-8739eee15f91",
   "metadata": {},
   "outputs": [],
   "source": [
    "voter_df.loc[(voter_df['elector_name']==''), 'elector_name'] = np.nan"
   ]
  },
  {
   "cell_type": "code",
   "execution_count": null,
   "id": "461c854b-551f-49f2-9dba-2fcdd54aefa7",
   "metadata": {},
   "outputs": [],
   "source": [
    "print(f\"In voter df, {voter_df.loc[(voter_df['father_or_husband_name'].isnull())|(voter_df['elector_name'].isnull())].shape[0]} observations have either elector or guardian name missing.\")"
   ]
  },
  {
   "cell_type": "code",
   "execution_count": null,
   "id": "b199647f-d490-40f4-891d-44d879c6ffac",
   "metadata": {},
   "outputs": [],
   "source": [
    "#Remove where elector or guardian is missing\n",
    "voter_df = voter_df[(voter_df['father_or_husband_name'].notnull()) & (voter_df['elector_name'].notnull())]"
   ]
  },
  {
   "cell_type": "code",
   "execution_count": null,
   "id": "feb6b5ef-c322-45c7-80b7-b33f68343f2b",
   "metadata": {},
   "outputs": [],
   "source": [
    "print(f'After removing rows where either voter or guardian is missing, we have {voter_df.shape[0]} rows.')"
   ]
  },
  {
   "cell_type": "code",
   "execution_count": null,
   "id": "80371c2d-6f1a-4a76-b8cc-271ecc5306b2",
   "metadata": {},
   "outputs": [],
   "source": [
    "voter_df.reset_index(inplace=True)"
   ]
  },
  {
   "cell_type": "markdown",
   "id": "4ca70e64-8c23-4ac4-a9c7-facc5a6a7252",
   "metadata": {},
   "source": [
    "## 6.4 Sort voter and PDS by random order"
   ]
  },
  {
   "cell_type": "code",
   "execution_count": null,
   "id": "3196b1a0-6e8b-4fa1-b6c5-a0a4561ffcac",
   "metadata": {},
   "outputs": [],
   "source": [
    "#Sort pds by random order\n",
    "pds_df_slice = pds_df_slice.sort_values(by=['UGP', 'RandomOrder'])"
   ]
  },
  {
   "cell_type": "code",
   "execution_count": null,
   "id": "638afe98-da56-45f9-b118-f4a20f485355",
   "metadata": {},
   "outputs": [],
   "source": [
    "#Sort voter roll by random order\n",
    "voter_df = voter_df.sort_values(by=['UGP', 'WardNo', 'Voter_Random_Order'])"
   ]
  },
  {
   "cell_type": "code",
   "execution_count": null,
   "id": "d8bd60d3-52be-4a40-bb33-ab1b3fdf6c46",
   "metadata": {},
   "outputs": [],
   "source": [
    "voter_df['Voter_Random_Order'].nunique()"
   ]
  },
  {
   "cell_type": "code",
   "execution_count": null,
   "id": "0adeffa2-8a6f-492c-ac5e-e8a029ccbf51",
   "metadata": {},
   "outputs": [],
   "source": [
    "voter_df.shape[0]"
   ]
  },
  {
   "cell_type": "markdown",
   "id": "85cd1147-9b03-47de-8055-d5bd4a49b17f",
   "metadata": {},
   "source": [
    "## 7. Do the fuzzy matching"
   ]
  },
  {
   "cell_type": "code",
   "execution_count": null,
   "id": "1e7d3b50-21f5-4586-8e71-71d207015352",
   "metadata": {},
   "outputs": [],
   "source": [
    "# #Now, do the fuzzy matching\n",
    "def fuzzy_match(voter, members, threshold=90):\n",
    "    # voter = voter if pd.notnull(voter) else \"\"\n",
    "    # for member in members:\n",
    "        # member = member if pd.notnull(member) else \"\"\n",
    "        # score = fuzz.token_sort_ratio(voter, member)\n",
    "    matched_voter_guard, score = process.extractOne(voter, members, scorer=fuzz.token_set_ratio)\n",
    "    # print(process.extractOne(voter, members, scorer=fuzz.token_sort_ratio))\n",
    "    if score >=threshold:\n",
    "        # print(f'Voter/Guardian: {voter}, All members: {members}, Matched member:{member}, Score:{score}')\n",
    "        # print(f'Voter/Guardian: {voter}, Matched member:{matched_voter_guard}, Score:{score}')\n",
    "        return score, matched_voter_guard\n",
    "    else:\n",
    "        return 0, 'NaN'"
   ]
  },
  {
   "cell_type": "code",
   "execution_count": null,
   "id": "94b73b5b-fe69-468d-9b46-ba2278208ed1",
   "metadata": {},
   "outputs": [],
   "source": [
    "# ugp=497\n",
    "# print(voter_df_merged.shape)\n",
    "# voter_df_merged_notnull = voter_df_merged[(voter_df_merged['elector_name'].notnull()) & (voter_df_merged['father_or_husband_name'].notnull())]\n",
    "# voter_df_merged_notnull[voter_df_merged_notnull['UGP']==ugp]"
   ]
  },
  {
   "cell_type": "code",
   "execution_count": null,
   "id": "749d5b99-e26b-4a12-a668-479a5dfcf1de",
   "metadata": {},
   "outputs": [],
   "source": [
    "print(f\"Voter: {voter_df.shape[0]}, PDS: {pds_df_slice.shape[0]}\")"
   ]
  },
  {
   "cell_type": "code",
   "execution_count": null,
   "id": "d06c6128-4726-4bbd-834e-51ecca088157",
   "metadata": {},
   "outputs": [],
   "source": [
    "voter_df = voter_df.rename(columns={'UGP':'UGP_Voter'})"
   ]
  },
  {
   "cell_type": "code",
   "execution_count": null,
   "id": "4d7592ee-e473-4433-81c7-fe28784405df",
   "metadata": {},
   "outputs": [],
   "source": [
    "np.where(voter_df['UGP_Voter'].unique()==6816)"
   ]
  },
  {
   "cell_type": "code",
   "execution_count": null,
   "id": "d00314bb-6394-408e-8c34-fa1a09a4b4ab",
   "metadata": {},
   "outputs": [],
   "source": [
    "voter_sample_folder"
   ]
  },
  {
   "cell_type": "code",
   "execution_count": null,
   "id": "e6e10e70-18ef-42bc-a270-3aa166a19f3c",
   "metadata": {},
   "outputs": [],
   "source": [
    "# voter_df['UGP_Voter'].unique().index"
   ]
  },
  {
   "cell_type": "code",
   "execution_count": null,
   "id": "6d6e36f1-cb63-4c2e-8769-6e3b5323e6fb",
   "metadata": {},
   "outputs": [],
   "source": [
    "voter_df['UGP_Voter'].nunique()"
   ]
  },
  {
   "cell_type": "code",
   "execution_count": null,
   "id": "d8472a3c-ab20-43a8-bafd-30a8f597e13a",
   "metadata": {},
   "outputs": [],
   "source": [
    "# ugp_list = []\n",
    "# for ugp in voter_df['UGP_Voter'].unique():\n",
    "#     if ugp not in ugp_list:\n",
    "#         print(f\"UGP: {ugp}; Index: {np.where(voter_df['UGP_Voter'].unique()==ugp)}\")\n",
    "#         ugp_list.append(ugp)"
   ]
  },
  {
   "cell_type": "code",
   "execution_count": null,
   "id": "6981d83a-e88d-46af-b239-95c799ee06d9",
   "metadata": {
    "scrolled": true
   },
   "outputs": [],
   "source": [
    "%%time\n",
    "matched_rows = []\n",
    "for ugp in voter_df['UGP_Voter'].unique():\n",
    "    for ward in voter_df[voter_df['UGP_Voter']==ugp]['WardNo'].unique():\n",
    "        match_count = 0\n",
    "        for voter_idx, voter_row in voter_df[(voter_df['UGP_Voter']==ugp) & (voter_df['WardNo']==ward)].iterrows():\n",
    "            for pds_idx, pds_row in pds_df_slice.loc[(pds_df_slice['UGP']==ugp)].iterrows():\n",
    "                try:\n",
    "                    member_list = pds_row[columns_to_trans]\n",
    "                    # print(member_list)\n",
    "                    member_list = list(member_list[member_list.notnull()])\n",
    "                    # print(len(member_list))\n",
    "                    # print(f'Voter:{voter_row['elector_name']}')\n",
    "                    if len(member_list)!=0:\n",
    "                        voter_match, matched_voter_guard = fuzzy_match(voter_row['elector_name'], member_list)\n",
    "                        # print(voter_match, matched_voter_guard)\n",
    "                        # print(f'Guard:{voter_row['father_or_husband_name']}')\n",
    "                        guard_match, guard_match_mem = fuzzy_match(voter_row['father_or_husband_name'], member_list)\n",
    "                        # print(guard_match, guard_match_mem)\n",
    "                    else:\n",
    "                        voter_match, matched_voter_guard = (0, 'NaN')\n",
    "                        guard_match, guard_match_mem = (0, 'NaN')\n",
    "                        # print(voter_match, matched_voter_guard)\n",
    "                        # print(guard_match, guard_match_mem)\n",
    "                        # break\n",
    "                except Exception as e:\n",
    "                    print(f\"Exception for file {voter_row['filename']} and mobile {pds_row['Mobile']} with members {member_list},ii voter_name {voter_row['elector_name']}, guardian_name {voter_row['father_or_husband_name']}\")\n",
    "                    break\n",
    "                if voter_match>=90 and guard_match>=90:\n",
    "                    total_match_score = voter_match + guard_match\n",
    "                    # print(f\"UGP:{ugp}, Ward:{ward}, Voter ID:{voter_idx}, PDS ID: {pds_idx}, Matches reached: {match_count}\")\n",
    "                    # print(f\"Voter:{voter_row['elector_name']}, Voter match mem: {matched_voter_guard}, Voter_match_score:{voter_match}, Guard:{voter_row['father_or_husband_name']}, Guard match mem: {guard_match_mem}, Guard match score:{guard_match}\")\n",
    "                    # if voter_match<=85 or guard_match<=85:\n",
    "                    #     print(f\"Voter:{voter_row['elector_name']}, Voter match mem: {voter_match_mem}, Voter_match_score:{voter_match}, Guard:{voter_row['father_or_husband_name']}, Guard match mem: {guard_match_mem}, Guard match score:{guard_match}\")\n",
    "                    matched_row = pd.concat([pds_row, voter_row], axis=0)\n",
    "                    matched_row['Voter_Match_Score'] = voter_match\n",
    "                    matched_row['Guardian_Match_Score'] = guard_match\n",
    "                    matched_row['Total_Match_Score'] = total_match_score\n",
    "                    matched_rows.append(matched_row)\n",
    "                    # pds_df_slice = pds_df_slice.drop(axis=0, index=pds_idx)\n",
    "                    match_count += 1\n",
    "                    break\n",
    "                # break\n",
    "            # break\n",
    "            if match_count==25:\n",
    "                for el in matched_rows:\n",
    "                    el['Voter_Stop_Random_Number'] = voter_row['Voter_Random_Order']\n",
    "                break\n",
    "        print(f\"UGP: {ugp}, Ward: {ward}, Matches reached: {match_count}\")\n",
    "        # break\n",
    "    # break\n",
    "matched_rows = pd.DataFrame(matched_rows)\n",
    "    # break"
   ]
  },
  {
   "cell_type": "code",
   "execution_count": null,
   "id": "b6d64cef-581b-4cc5-b4df-8250b3ee774f",
   "metadata": {},
   "outputs": [],
   "source": [
    "#When took 90 as the cutoff, got 13 matches in a ward (got 16 with 85, but all below 90 were wrong)\n",
    "#After token_set_ratio, 15 above 90, 38, 54\n",
    "#Took 3 hours for 40 UGPs"
   ]
  },
  {
   "cell_type": "code",
   "execution_count": null,
   "id": "cdd7c9b3-5456-4a20-9b25-83d37c4e9b57",
   "metadata": {},
   "outputs": [],
   "source": [
    "# matched_rows = pd.DataFrame(matched_rows)"
   ]
  },
  {
   "cell_type": "code",
   "execution_count": null,
   "id": "bdcfdcfa-c775-4ebd-80f2-17238115e765",
   "metadata": {},
   "outputs": [],
   "source": [
    "# matched_rows = matched_rows.loc[matched_rows['UGP_Voter']!=5572.00]"
   ]
  },
  {
   "cell_type": "code",
   "execution_count": null,
   "id": "dcd16dcc-623b-4188-84cf-3e2a96221802",
   "metadata": {},
   "outputs": [],
   "source": [
    "# np.where(matched_rows['UGP_Voter']==5572)"
   ]
  },
  {
   "cell_type": "code",
   "execution_count": null,
   "id": "350c0b9a-e25d-4877-ae15-211174783445",
   "metadata": {},
   "outputs": [],
   "source": [
    "#If same PDS mobile matched with multiple voters, keep one with higher score\n",
    "matched_rows[matched_rows.duplicated(subset=['Mobile'], keep='first')].sort_values(by=['Mobile', 'Total_Match_Score'])"
   ]
  },
  {
   "cell_type": "code",
   "execution_count": null,
   "id": "a0b8d4e4-c9b8-4d34-b498-979ebd8b55ef",
   "metadata": {},
   "outputs": [],
   "source": [
    "matched_rows = matched_rows.sort_values(by=['Mobile', 'Total_Match_Score'])"
   ]
  },
  {
   "cell_type": "code",
   "execution_count": null,
   "id": "2adf163b-4737-40c9-aa9d-d9acfd2efb49",
   "metadata": {},
   "outputs": [],
   "source": [
    "matched_rows = matched_rows.drop_duplicates(subset=['Mobile'], keep='first')"
   ]
  },
  {
   "cell_type": "code",
   "execution_count": null,
   "id": "59c04bbd-9ad2-4a57-a376-a18e26e94327",
   "metadata": {},
   "outputs": [],
   "source": [
    "matched_rows.columns"
   ]
  },
  {
   "cell_type": "code",
   "execution_count": null,
   "id": "2eca87ef-9798-44e7-b8a5-57ce60df1949",
   "metadata": {},
   "outputs": [],
   "source": [
    "matched_cols = list(matched_rows.columns.values) #Make the columns to a list"
   ]
  },
  {
   "cell_type": "code",
   "execution_count": null,
   "id": "a7f79cf1-2e93-4895-9b57-4051863c16f6",
   "metadata": {},
   "outputs": [],
   "source": [
    "member_list = list(f\"Member_{i+1}\" for i in range(64))"
   ]
  },
  {
   "cell_type": "code",
   "execution_count": null,
   "id": "b891f85e-27ee-4e27-b3ee-5d7bfcc481c8",
   "metadata": {},
   "outputs": [],
   "source": [
    "remove_list = ['index', 'house_no', 'age', 'sex', 'pan name', 'ac', 'part_no', 'year', 'state', 'net_electors_male', 'net_electors_female', 'net_electors_third_gender', 'net_electors_total', 'original_or_amendment', 'UGP_Voter']"
   ]
  },
  {
   "cell_type": "code",
   "execution_count": null,
   "id": "5cb536f9-503c-4f3e-8408-85466280587d",
   "metadata": {},
   "outputs": [],
   "source": [
    "print(matched_cols)"
   ]
  },
  {
   "cell_type": "code",
   "execution_count": null,
   "id": "45149331-d55e-4594-aaf4-b7e87a90c66f",
   "metadata": {},
   "outputs": [],
   "source": [
    "required_cols = [x for x in matched_cols if x not in member_list and x not in remove_list]"
   ]
  },
  {
   "cell_type": "code",
   "execution_count": null,
   "id": "cd6b0385-ec78-47bc-9b6a-84291ff3901b",
   "metadata": {},
   "outputs": [],
   "source": [
    "print(required_cols)"
   ]
  },
  {
   "cell_type": "code",
   "execution_count": null,
   "id": "d5510386-eb39-4059-bdeb-24933e3950a9",
   "metadata": {},
   "outputs": [],
   "source": [
    "matched_rows.groupby(['UGP', 'WardNo']).nunique() #175 unique wards"
   ]
  },
  {
   "cell_type": "code",
   "execution_count": null,
   "id": "419288a4-2b56-4bc4-9811-4c0bc80683a2",
   "metadata": {},
   "outputs": [],
   "source": [
    "matched_rows.UGP.nunique()"
   ]
  },
  {
   "cell_type": "markdown",
   "id": "1aa31a3d-5ec7-4190-9939-5585d9689cd9",
   "metadata": {},
   "source": [
    "## 8.1 Save matched_rows to csv"
   ]
  },
  {
   "cell_type": "markdown",
   "id": "b2358ec6-362c-4f11-b50d-03f697369654",
   "metadata": {},
   "source": [
    "#### Open csv files in the relevant folder"
   ]
  },
  {
   "cell_type": "code",
   "execution_count": null,
   "id": "93f3b0cd-61c2-416c-a51d-4e268d6b112a",
   "metadata": {},
   "outputs": [],
   "source": [
    "folder = os.path.join(db, pds_input, 'Matched_rows')\n",
    "all_file_num = []\n",
    "for file in os.listdir(folder):\n",
    "    if os.path.isfile(os.path.join(folder, file)):\n",
    "        try:\n",
    "            print(file)\n",
    "            file_num = int(file.split('_')[-1].split('.')[0])\n",
    "            print(file_num)\n",
    "            all_file_num.append(file_num)\n",
    "        except ValueError:\n",
    "            print(f\"{file} does not end with a number.\")\n",
    "            continue\n",
    "print(all_file_num)"
   ]
  },
  {
   "cell_type": "code",
   "execution_count": null,
   "id": "7903b071-77d0-4cf0-adf5-e848dbc43238",
   "metadata": {},
   "outputs": [],
   "source": [
    "#Now, find the highest number from the list\n",
    "max_num = max(all_file_num)\n",
    "new_file_name = f\"matched_rows_{max_num+1}.csv\"\n",
    "print(new_file_name)"
   ]
  },
  {
   "cell_type": "code",
   "execution_count": null,
   "id": "cf4d3edf-72c3-4b2f-ab98-2f272d7d498c",
   "metadata": {},
   "outputs": [],
   "source": [
    "matched_rows.to_csv(os.path.join(db, pds_input, 'Matched_rows', new_file_name), index=False)"
   ]
  },
  {
   "cell_type": "code",
   "execution_count": null,
   "id": "86d670fb-ca87-406f-97e0-622100129704",
   "metadata": {},
   "outputs": [],
   "source": [
    "matched_rows = matched_rows[required_cols]"
   ]
  },
  {
   "cell_type": "code",
   "execution_count": null,
   "id": "94621c52-dec3-48dc-a652-0e1e327bc18f",
   "metadata": {},
   "outputs": [],
   "source": [
    "# matched_rows = matched_rows.sort_values(by=['UGP', 'WardNo', 'RandomOrder'])"
   ]
  },
  {
   "cell_type": "code",
   "execution_count": null,
   "id": "9e0dbbb7-d32f-44d3-b0e1-a478c97219a1",
   "metadata": {},
   "outputs": [],
   "source": [
    "print(f\"pds_df_slice:{pds_df_slice.shape[0]}; voter_df: {voter_df.shape[0]}; matched: {matched_rows.shape[0]}\")"
   ]
  },
  {
   "cell_type": "code",
   "execution_count": null,
   "id": "66d46036-00ba-46d3-805e-d7eb315dffce",
   "metadata": {},
   "outputs": [],
   "source": [
    "cols_to_keep = ['UniqueID', 'RationCard_No', 'UGP', 'WardNo', 'Member_ID', 'Member_Name', 'Father_Name', 'Mobile', 'RandomOrder', 'FPS_Name', 'DistrictName', 'SubDistrictName', 'GramPanchayatName']"
   ]
  },
  {
   "cell_type": "code",
   "execution_count": null,
   "id": "d81af477-67b1-4821-870d-e320494145f0",
   "metadata": {},
   "outputs": [],
   "source": [
    "pds_voter_sample = matched_rows[cols_to_keep]"
   ]
  },
  {
   "cell_type": "code",
   "execution_count": null,
   "id": "45759c81-4cf6-4f8c-a836-1d1a4c965325",
   "metadata": {},
   "outputs": [],
   "source": [
    "pds_voter_sample[pds_voter_sample.duplicated(subset='UniqueID', keep=False)]"
   ]
  },
  {
   "cell_type": "markdown",
   "id": "7a65cb5b-b14e-4586-b482-549aeb7be7ba",
   "metadata": {},
   "source": [
    "### Save the new sample"
   ]
  },
  {
   "cell_type": "code",
   "execution_count": null,
   "id": "42773a60-b3f7-4c8f-9e9a-8e7bf451c777",
   "metadata": {},
   "outputs": [],
   "source": [
    "#Open all files in the sample save directory\n",
    "folder = os.path.join(db, pds_input, 'Sample')\n",
    "all_file_num = []\n",
    "for file in os.listdir(folder):\n",
    "    if os.path.isfile(os.path.join(folder, file)) and file.endswith('.csv'):\n",
    "        try:\n",
    "            print(file)\n",
    "            file_num = int(file.split('_')[-1].split('.')[0])\n",
    "            print(file_num)\n",
    "            all_file_num.append(file_num)\n",
    "        except ValueError:\n",
    "            print(f\"{file} does not end with a number.\")\n",
    "            continue\n",
    "print(all_file_num)"
   ]
  },
  {
   "cell_type": "code",
   "execution_count": null,
   "id": "9b70aa33-ed98-456c-9997-98ed6d2d3d14",
   "metadata": {},
   "outputs": [],
   "source": [
    "#Now, find the highest number from the list\n",
    "max_num = max(all_file_num)\n",
    "new_file_name = f\"pds_voter_sample_{max_num+1}.csv\"\n",
    "print(new_file_name)"
   ]
  },
  {
   "cell_type": "code",
   "execution_count": null,
   "id": "47fcb584-0ec9-4d93-93aa-360cdb80f5d2",
   "metadata": {},
   "outputs": [],
   "source": [
    "#Save the file\n",
    "pds_voter_sample.to_csv(os.path.join(db, pds_input, 'Sample', new_file_name), index=False)"
   ]
  },
  {
   "cell_type": "code",
   "execution_count": null,
   "id": "d6229170-6110-45e9-8689-9273bbc87d59",
   "metadata": {},
   "outputs": [],
   "source": [
    "pds_voter_sample.shape"
   ]
  }
 ],
 "metadata": {
  "kernelspec": {
   "display_name": "Python 3 (ipykernel)",
   "language": "python",
   "name": "python3"
  },
  "language_info": {
   "codemirror_mode": {
    "name": "ipython",
    "version": 3
   },
   "file_extension": ".py",
   "mimetype": "text/x-python",
   "name": "python",
   "nbconvert_exporter": "python",
   "pygments_lexer": "ipython3",
   "version": "3.12.1"
  }
 },
 "nbformat": 4,
 "nbformat_minor": 5
}
